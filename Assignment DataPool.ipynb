{
 "cells": [
  {
   "cell_type": "code",
   "execution_count": 1,
   "metadata": {},
   "outputs": [],
   "source": [
    "import pandas as p\n"
   ]
  },
  {
   "cell_type": "code",
   "execution_count": 2,
   "metadata": {},
   "outputs": [],
   "source": [
    "df=p.read_csv('amazon.csv')"
   ]
  },
  {
   "cell_type": "code",
   "execution_count": 3,
   "metadata": {},
   "outputs": [
    {
     "name": "stdout",
     "output_type": "stream",
     "text": [
      "      product_id                                       product_name  \\\n",
      "0     B07JW9H4J1  Wayona Nylon Braided USB to Lightning Fast Cha...   \n",
      "1     B098NS6PVG  Ambrane Unbreakable 60W / 3A Fast Charging 1.5...   \n",
      "2     B096MSW6CT  Sounce Fast Phone Charging Cable & Data Sync U...   \n",
      "3     B08HDJ86NZ  boAt Deuce USB 300 2 in 1 Type-C & Micro USB S...   \n",
      "4     B08CF3B7N1  Portronics Konnect L 1.2M Fast Charging 3A 8 P...   \n",
      "...          ...                                                ...   \n",
      "1460  B08L7J3T31  Noir Aqua - 5pcs PP Spun Filter + 1 Spanner | ...   \n",
      "1461  B01M6453MB  Prestige Delight PRWO Electric Rice Cooker (1 ...   \n",
      "1462  B009P2LIL4  Bajaj Majesty RX10 2000 Watts Heat Convector R...   \n",
      "1463  B00J5DYCCA  Havells Ventil Air DSP 230mm Exhaust Fan (Pist...   \n",
      "1464  B01486F4G6  Borosil Jumbo 1000-Watt Grill Sandwich Maker (...   \n",
      "\n",
      "                                               category discounted_price  \\\n",
      "0     Computers&Accessories|Accessories&Peripherals|...             ₹399   \n",
      "1     Computers&Accessories|Accessories&Peripherals|...             ₹199   \n",
      "2     Computers&Accessories|Accessories&Peripherals|...             ₹199   \n",
      "3     Computers&Accessories|Accessories&Peripherals|...             ₹329   \n",
      "4     Computers&Accessories|Accessories&Peripherals|...             ₹154   \n",
      "...                                                 ...              ...   \n",
      "1460  Home&Kitchen|Kitchen&HomeAppliances|WaterPurif...             ₹379   \n",
      "1461  Home&Kitchen|Kitchen&HomeAppliances|SmallKitch...           ₹2,280   \n",
      "1462  Home&Kitchen|Heating,Cooling&AirQuality|RoomHe...           ₹2,219   \n",
      "1463  Home&Kitchen|Heating,Cooling&AirQuality|Fans|E...           ₹1,399   \n",
      "1464  Home&Kitchen|Kitchen&HomeAppliances|SmallKitch...           ₹2,863   \n",
      "\n",
      "     actual_price discount_percentage rating rating_count  \\\n",
      "0          ₹1,099                 64%    4.2       24,269   \n",
      "1            ₹349                 43%    4.0       43,994   \n",
      "2          ₹1,899                 90%    3.9        7,928   \n",
      "3            ₹699                 53%    4.2       94,363   \n",
      "4            ₹399                 61%    4.2       16,905   \n",
      "...           ...                 ...    ...          ...   \n",
      "1460         ₹919                 59%      4        1,090   \n",
      "1461       ₹3,045                 25%    4.1        4,118   \n",
      "1462       ₹3,080                 28%    3.6          468   \n",
      "1463       ₹1,890                 26%      4        8,031   \n",
      "1464       ₹3,690                 22%    4.3        6,987   \n",
      "\n",
      "                                          about_product  \\\n",
      "0     High Compatibility : Compatible With iPhone 12...   \n",
      "1     Compatible with all Type C enabled devices, be...   \n",
      "2     【 Fast Charger& Data Sync】-With built-in safet...   \n",
      "3     The boAt Deuce USB 300 2 in 1 cable is compati...   \n",
      "4     [CHARGE & SYNC FUNCTION]- This cable comes wit...   \n",
      "...                                                 ...   \n",
      "1460  SUPREME QUALITY 90 GRAM 3 LAYER THIK PP SPUN F...   \n",
      "1461                       230 Volts, 400 watts, 1 Year   \n",
      "1462  International design and styling|Two heat sett...   \n",
      "1463  Fan sweep area: 230 MM ; Noise level: (40 - 45...   \n",
      "1464  Brand-Borosil, Specification â€“ 23V ~ 5Hz;1 W...   \n",
      "\n",
      "                                                user_id  \\\n",
      "0     AG3D6O4STAQKAY2UVGEUV46KN35Q,AHMY5CWJMMK5BJRBB...   \n",
      "1     AECPFYFQVRUWC3KGNLJIOREFP5LQ,AGYYVPDD7YG7FYNBX...   \n",
      "2     AGU3BBQ2V2DDAMOAKGFAWDDQ6QHA,AESFLDV2PT363T2AQ...   \n",
      "3     AEWAZDZZJLQUYVOVGBEUKSLXHQ5A,AG5HTSFRRE6NL3M5S...   \n",
      "4     AE3Q6KSUK5P75D5HFYHCRAOLODSA,AFUGIFH5ZAFXRDSZH...   \n",
      "...                                                 ...   \n",
      "1460  AHITFY6AHALOFOHOZEOC6XBP4FEA,AFRABBODZJZQB6Z4U...   \n",
      "1461  AFG5FM3NEMOL6BNFRV2NK5FNJCHQ,AGEINTRN6Z563RMLH...   \n",
      "1462  AGVPWCMAHYQWJOQKMUJN4DW3KM5Q,AF4Q3E66MY4SR7YQZ...   \n",
      "1463  AF2JQCLSCY3QJATWUNNHUSVUPNQQ,AFDMLUXC5LS5RXDJS...   \n",
      "1464  AFGW5PT3R6ZAVQR4Y5MWVAKBZAYA,AG7QNJ2SCS5VS5VYY...   \n",
      "\n",
      "                                              user_name  \\\n",
      "0     Manav,Adarsh gupta,Sundeep,S.Sayeed Ahmed,jasp...   \n",
      "1     ArdKn,Nirbhay kumar,Sagar Viswanathan,Asp,Plac...   \n",
      "2     Kunal,Himanshu,viswanath,sai niharka,saqib mal...   \n",
      "3     Omkar dhale,JD,HEMALATHA,Ajwadh a.,amar singh ...   \n",
      "4     rahuls6099,Swasat Borah,Ajay Wadke,Pranali,RVK...   \n",
      "...                                                 ...   \n",
      "1460  Prabha ds,Raghuram bk,Real Deal,Amazon Custome...   \n",
      "1461  Manu Bhai,Naveenpittu,Evatira Sangma,JAGANNADH...   \n",
      "1462  Nehal Desai,Danish Parwez,Amazon Customer,Amaz...   \n",
      "1463  Shubham Dubey,E.GURUBARAN,Mayank S.,eusuf khan...   \n",
      "1464  Rajib,Ajay B,Vikas Kahol,PARDEEP,Anindya Prama...   \n",
      "\n",
      "                                              review_id  \\\n",
      "0     R3HXWT0LRP0NMF,R2AJM3LFTLZHFO,R6AQJGUP6P86,R1K...   \n",
      "1     RGIQEG07R9HS2,R1SMWZQ86XIN8U,R2J3Y1WL29GWDE,RY...   \n",
      "2     R3J3EQQ9TZI5ZJ,R3E7WBGK7ID0KV,RWU79XKQ6I1QF,R2...   \n",
      "3     R3EEUZKKK9J36I,R3HJVYCLYOY554,REDECAZ7AMPQC,R1...   \n",
      "4     R1BP4L2HH9TFUP,R16PVJEXKV6QZS,R2UPDB81N66T4P,R...   \n",
      "...                                                 ...   \n",
      "1460  R3G3XFHPBFF0E8,R3C0BZCD32EIGW,R2EBVBCN9QPD9R,R...   \n",
      "1461  R3DDL2UPKQ2CK9,R2SYYU1OATVIU5,R1VM993161IYRW,R...   \n",
      "1462  R1TLRJVW4STY5I,R2O455KRN493R1,R3Q5MVGBRIAS2G,R...   \n",
      "1463  R39Q2Y79MM9SWK,R3079BG1NIH6MB,R29A31ZELTZNJM,R...   \n",
      "1464  R20RBRZ0WEUJT9,ROKIFK9R2ISSE,R30EEG2FNJSN5I,R2...   \n",
      "\n",
      "                                           review_title  \\\n",
      "0     Satisfied,Charging is really fast,Value for mo...   \n",
      "1     A Good Braided Cable for Your Type C Device,Go...   \n",
      "2     Good speed for earlier versions,Good Product,W...   \n",
      "3     Good product,Good one,Nice,Really nice product...   \n",
      "4     As good as original,Decent,Good one for second...   \n",
      "...                                                 ...   \n",
      "1460  Received the product without spanner,Excellent...   \n",
      "1461  ok,everything was good couldn't return bcoz I ...   \n",
      "1462  very good,Work but front melt after 2 month,Go...   \n",
      "1463  Fan Speed is slow,Good quality,Good product,go...   \n",
      "1464  Works perfect,Ok good product,Nice Product. Re...   \n",
      "\n",
      "                                         review_content  \\\n",
      "0     Looks durable Charging is fine tooNo complains...   \n",
      "1     I ordered this cable to connect my phone to An...   \n",
      "2     Not quite durable and sturdy,https://m.media-a...   \n",
      "3     Good product,long wire,Charges good,Nice,I bou...   \n",
      "4     Bought this instead of original apple, does th...   \n",
      "...                                                 ...   \n",
      "1460  I received product without spanner,Excellent p...   \n",
      "1461  ok,got everything as mentioned but the measuri...   \n",
      "1462  plastic but cool body ,u have to find sturdy s...   \n",
      "1463  I have installed this in my kitchen working fi...   \n",
      "1464  It does it job perfectly..only issue is temp c...   \n",
      "\n",
      "                                               img_link  \\\n",
      "0     https://m.media-amazon.com/images/W/WEBP_40237...   \n",
      "1     https://m.media-amazon.com/images/W/WEBP_40237...   \n",
      "2     https://m.media-amazon.com/images/W/WEBP_40237...   \n",
      "3     https://m.media-amazon.com/images/I/41V5FtEWPk...   \n",
      "4     https://m.media-amazon.com/images/W/WEBP_40237...   \n",
      "...                                                 ...   \n",
      "1460  https://m.media-amazon.com/images/I/41fDdRtjfx...   \n",
      "1461  https://m.media-amazon.com/images/I/41gzDxk4+k...   \n",
      "1462  https://m.media-amazon.com/images/W/WEBP_40237...   \n",
      "1463  https://m.media-amazon.com/images/W/WEBP_40237...   \n",
      "1464  https://m.media-amazon.com/images/W/WEBP_40237...   \n",
      "\n",
      "                                           product_link  \n",
      "0     https://www.amazon.in/Wayona-Braided-WN3LG1-Sy...  \n",
      "1     https://www.amazon.in/Ambrane-Unbreakable-Char...  \n",
      "2     https://www.amazon.in/Sounce-iPhone-Charging-C...  \n",
      "3     https://www.amazon.in/Deuce-300-Resistant-Tang...  \n",
      "4     https://www.amazon.in/Portronics-Konnect-POR-1...  \n",
      "...                                                 ...  \n",
      "1460  https://www.amazon.in/Noir-Aqua-Spanner-Purifi...  \n",
      "1461  https://www.amazon.in/Prestige-Delight-PRWO-1-...  \n",
      "1462  https://www.amazon.in/Bajaj-RX-10-2000-Watt-Co...  \n",
      "1463  https://www.amazon.in/Havells-Ventilair-230mm-...  \n",
      "1464  https://www.amazon.in/Borosil-Jumbo-1000-Watt-...  \n",
      "\n",
      "[1465 rows x 16 columns]\n"
     ]
    }
   ],
   "source": [
    "print(df)"
   ]
  },
  {
   "cell_type": "code",
   "execution_count": 5,
   "metadata": {},
   "outputs": [
    {
     "name": "stdout",
     "output_type": "stream",
     "text": [
      "        product_id                                       product_name  \\\n",
      "count         1465                                               1465   \n",
      "unique        1351                                               1337   \n",
      "top     B08WRWPM22  Fire-Boltt Ninja Call Pro Plus 1.83\" Smart Wat...   \n",
      "freq             3                                                  5   \n",
      "\n",
      "                                                 category discounted_price  \\\n",
      "count                                                1465             1465   \n",
      "unique                                                211              550   \n",
      "top     Computers&Accessories|Accessories&Peripherals|...             ₹199   \n",
      "freq                                                  233               53   \n",
      "\n",
      "       actual_price discount_percentage rating rating_count  \\\n",
      "count          1465                1465   1465         1463   \n",
      "unique          449                  92     28         1143   \n",
      "top            ₹999                 50%    4.1        9,378   \n",
      "freq            120                  56    244            9   \n",
      "\n",
      "                                            about_product  \\\n",
      "count                                                1465   \n",
      "unique                                               1293   \n",
      "top     [CHARGE & SYNC FUNCTION]- This cable comes wit...   \n",
      "freq                                                    6   \n",
      "\n",
      "                                                  user_id  \\\n",
      "count                                                1465   \n",
      "unique                                               1194   \n",
      "top     AHIKJUDTVJ4T6DV6IUGFYZ5LXMPA,AE55KTFVNXYFD5FPY...   \n",
      "freq                                                   10   \n",
      "\n",
      "                                                user_name  \\\n",
      "count                                                1465   \n",
      "unique                                               1194   \n",
      "top     $@|\\|TO$|-|,Sethu madhav,Akash Thakur,Burger P...   \n",
      "freq                                                   10   \n",
      "\n",
      "                                                review_id  \\\n",
      "count                                                1465   \n",
      "unique                                               1194   \n",
      "top     R3F4T5TRYPTMIG,R3DQIEC603E7AY,R1O4Z15FD40PV5,R...   \n",
      "freq                                                   10   \n",
      "\n",
      "                                             review_title  \\\n",
      "count                                                1465   \n",
      "unique                                               1194   \n",
      "top     Worked on iPhone 7 and didn’t work on XR,Good ...   \n",
      "freq                                                   10   \n",
      "\n",
      "                                           review_content  \\\n",
      "count                                                1465   \n",
      "unique                                               1212   \n",
      "top     I am not big on camera usage, personally. I wa...   \n",
      "freq                                                    8   \n",
      "\n",
      "                                                 img_link  \\\n",
      "count                                                1465   \n",
      "unique                                               1412   \n",
      "top     https://m.media-amazon.com/images/I/413sCRKobN...   \n",
      "freq                                                    3   \n",
      "\n",
      "                                             product_link  \n",
      "count                                                1465  \n",
      "unique                                               1465  \n",
      "top     https://www.amazon.in/Borosil-Jumbo-1000-Watt-...  \n",
      "freq                                                    1  \n"
     ]
    }
   ],
   "source": [
    "print(df.describe())"
   ]
  },
  {
   "cell_type": "markdown",
   "metadata": {},
   "source": [
    "WHICH CATEGORY OF PRODUCT MOST SOLD?\n",
    "Answer:- Computer & Acessories"
   ]
  },
  {
   "cell_type": "markdown",
   "metadata": {},
   "source": [
    "WHICH PRODUCT HAS BEEN SOLD MAXIMUM AMOUNT OF TIMES?\n",
    "Answer:- Firebolt Ninja Pro plus SMART WATCH\n"
   ]
  },
  {
   "cell_type": "code",
   "execution_count": 14,
   "metadata": {},
   "outputs": [
    {
     "name": "stdout",
     "output_type": "stream",
     "text": [
      "discount_percentage                                                  94%\n",
      "product_name           tizum HDMI to VGA Adapter Cable 1080P for Proj...\n",
      "dtype: object\n"
     ]
    }
   ],
   "source": [
    "print(df[['discount_percentage','product_name']].max())"
   ]
  },
  {
   "cell_type": "markdown",
   "metadata": {},
   "source": []
  },
  {
   "cell_type": "markdown",
   "metadata": {},
   "source": [
    "AT WHICH PRODUCT IS THE MAXIMUM DISCOUNT OFFERED?\n",
    "ANSWER:-HDMI to VGA adapter cable(94%)"
   ]
  },
  {
   "cell_type": "code",
   "execution_count": 19,
   "metadata": {},
   "outputs": [
    {
     "name": "stdout",
     "output_type": "stream",
     "text": [
      "rating                                                          2\n",
      "product_name    !!1000 Watt/2000-Watt Room Heater!! Fan Heater...\n",
      "dtype: object\n"
     ]
    }
   ],
   "source": [
    "print(df[['rating','product_name']].min())"
   ]
  },
  {
   "cell_type": "markdown",
   "metadata": {},
   "source": []
  },
  {
   "cell_type": "markdown",
   "metadata": {},
   "source": [
    "WHICH PRODUCT HAS GOT THE LOWEST RATINGS?\n",
    "ANSWER:- FAN HEATER(2)"
   ]
  },
  {
   "cell_type": "code",
   "execution_count": 20,
   "metadata": {},
   "outputs": [
    {
     "name": "stdout",
     "output_type": "stream",
     "text": [
      "rating                                                          |\n",
      "product_name    tizum HDMI to VGA Adapter Cable 1080P for Proj...\n",
      "dtype: object\n"
     ]
    }
   ],
   "source": [
    "print(df[['rating','product_name']].max())\n"
   ]
  },
  {
   "cell_type": "markdown",
   "metadata": {},
   "source": [
    "WHICH PRODUCT HAS MAXIMUM RATING?\n",
    "ANSWER:- HDMI to VGA adapter cable(5).The thing we can notice is that not only the discount on this product has been maximum but also this product has received highest rating from the customers."
   ]
  },
  {
   "cell_type": "code",
   "execution_count": null,
   "metadata": {},
   "outputs": [],
   "source": []
  }
 ],
 "metadata": {
  "kernelspec": {
   "display_name": "venv",
   "language": "python",
   "name": "python3"
  },
  "language_info": {
   "codemirror_mode": {
    "name": "ipython",
    "version": 3
   },
   "file_extension": ".py",
   "mimetype": "text/x-python",
   "name": "python",
   "nbconvert_exporter": "python",
   "pygments_lexer": "ipython3",
   "version": "3.12.5"
  }
 },
 "nbformat": 4,
 "nbformat_minor": 2
}
