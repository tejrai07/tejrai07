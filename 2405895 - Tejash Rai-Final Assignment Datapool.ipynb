{
 "cells": [
  {
   "cell_type": "markdown",
   "metadata": {},
   "source": [
    "# <u> FINAL PROJECT - DATAPOOL\n"
   ]
  },
  {
   "cell_type": "markdown",
   "metadata": {},
   "source": [
    "# ADDIDAS SALES IN U.S."
   ]
  },
  {
   "cell_type": "code",
   "execution_count": 5,
   "metadata": {},
   "outputs": [],
   "source": [
    "import pandas as p"
   ]
  },
  {
   "cell_type": "code",
   "execution_count": 6,
   "metadata": {},
   "outputs": [],
   "source": [
    "df=p.read_csv('Adidas US Sales.csv')"
   ]
  },
  {
   "cell_type": "code",
   "execution_count": 7,
   "metadata": {},
   "outputs": [
    {
     "name": "stdout",
     "output_type": "stream",
     "text": [
      "      sales_id       retailer  retailer_id invoice_date     region  \\\n",
      "0            1    Foot Locker      1185732   06-11-2021  Southeast   \n",
      "1            2    Foot Locker      1185732   14-03-2020  Northeast   \n",
      "2            3      West Gear      1128299   19-01-2021       West   \n",
      "3            4        Walmart      1128299   17-06-2021  Southeast   \n",
      "4            5  Sports Direct      1197831   14-09-2021      South   \n",
      "...        ...            ...          ...          ...        ...   \n",
      "9632      9633         Amazon      1185732   18-11-2021  Northeast   \n",
      "9633      9634         Amazon      1185732   22-10-2021       West   \n",
      "9634      9635         Amazon      1185732   22-10-2021       West   \n",
      "9635      9636      West Gear      1185732   10-04-2021    Midwest   \n",
      "9636      9637  Sports Direct      1185732   05-10-2021  Northeast   \n",
      "\n",
      "               state           city                    product  \\\n",
      "0     South Carolina     Charleston      Men's Street Footwear   \n",
      "1           New York       New York              Men's Apparel   \n",
      "2         California  San Francisco    Men's Athletic Footwear   \n",
      "3            Florida        Orlando            Women's Apparel   \n",
      "4            Alabama     Birmingham    Women's Street Footwear   \n",
      "...              ...            ...                        ...   \n",
      "9632           Maine       Portland              Men's Apparel   \n",
      "9633          Alaska      Anchorage  Women's Athletic Footwear   \n",
      "9634          Alaska      Anchorage              Men's Apparel   \n",
      "9635         Indiana   Indianapolis              Men's Apparel   \n",
      "9636     Connecticut       Hartford              Men's Apparel   \n",
      "\n",
      "      price_per_unit  units_sold  total_sales  operating_profit sales_method  \n",
      "0                 50         278        13900               792       Online  \n",
      "1                 46         278        12788               435       Outlet  \n",
      "2                 47         278        13066               287       Outlet  \n",
      "3                103         218        22454              1257       Online  \n",
      "4                 36         278        10008               530       Outlet  \n",
      "...              ...         ...          ...               ...          ...  \n",
      "9632              65         150         9750              2438       Outlet  \n",
      "9633              65         150         9750              2438       Outlet  \n",
      "9634              75         150        11250              2813       Outlet  \n",
      "9635              65         150         9750              2925     In-store  \n",
      "9636              65         150         9750              2925     In-store  \n",
      "\n",
      "[9637 rows x 13 columns]\n"
     ]
    }
   ],
   "source": [
    "print(df)"
   ]
  },
  {
   "cell_type": "markdown",
   "metadata": {},
   "source": [
    "Describe the components of Dataset"
   ]
  },
  {
   "cell_type": "code",
   "execution_count": 8,
   "metadata": {},
   "outputs": [
    {
     "name": "stdout",
     "output_type": "stream",
     "text": [
      "          sales_id   retailer_id  price_per_unit   units_sold   total_sales  \\\n",
      "count  9637.000000  9.637000e+03     9637.000000  9637.000000   9637.000000   \n",
      "mean   4819.000000  1.173846e+06       45.218948   256.886064  12451.621355   \n",
      "std    2782.106606  2.636304e+04       14.704520   214.097600  12708.094249   \n",
      "min       1.000000  1.128299e+06        7.000000     6.000000    160.000000   \n",
      "25%    2410.000000  1.185732e+06       35.000000   106.000000   4068.000000   \n",
      "50%    4819.000000  1.185732e+06       45.000000   176.000000   7805.000000   \n",
      "75%    7228.000000  1.185732e+06       55.000000   350.000000  15834.000000   \n",
      "max    9637.000000  1.197831e+06      110.000000  1275.000000  82500.000000   \n",
      "\n",
      "       operating_profit  \n",
      "count       9637.000000  \n",
      "mean        3440.706029  \n",
      "std         5418.210200  \n",
      "min            8.000000  \n",
      "25%          192.000000  \n",
      "50%          437.000000  \n",
      "75%         5200.000000  \n",
      "max        39000.000000  \n"
     ]
    }
   ],
   "source": [
    "print(df.describe())"
   ]
  },
  {
   "cell_type": "markdown",
   "metadata": {},
   "source": [
    "Which retailer sold most units?"
   ]
  },
  {
   "cell_type": "code",
   "execution_count": 9,
   "metadata": {},
   "outputs": [
    {
     "name": "stdout",
     "output_type": "stream",
     "text": [
      "units_sold         1275\n",
      "retailer      West Gear\n",
      "dtype: object\n"
     ]
    }
   ],
   "source": [
    "print(df[['units_sold','retailer']].max())"
   ]
  },
  {
   "cell_type": "markdown",
   "metadata": {},
   "source": [
    "What is the regionwise sales distribution?"
   ]
  },
  {
   "cell_type": "code",
   "execution_count": 10,
   "metadata": {},
   "outputs": [
    {
     "name": "stdout",
     "output_type": "stream",
     "text": [
      "region\n",
      "Midwest      1865\n",
      "Northeast    2376\n",
      "South        1726\n",
      "Southeast    1224\n",
      "West         2446\n",
      "dtype: int64\n"
     ]
    }
   ],
   "source": [
    "print(df[['region', 'total_sales']].groupby('region').size())"
   ]
  },
  {
   "cell_type": "markdown",
   "metadata": {},
   "source": [
    "What are the citywise sales?"
   ]
  },
  {
   "cell_type": "code",
   "execution_count": 11,
   "metadata": {},
   "outputs": [
    {
     "name": "stdout",
     "output_type": "stream",
     "text": [
      "city\n",
      "Albany            144\n",
      "Albuquerque       216\n",
      "Anchorage         144\n",
      "Atlanta           216\n",
      "Baltimore         144\n",
      "Billings          144\n",
      "Birmingham        216\n",
      "Boise             216\n",
      "Boston            216\n",
      "Burlington        216\n",
      "Charleston        288\n",
      "Charlotte         144\n",
      "Cheyenne          144\n",
      "Chicago           141\n",
      "Columbus          144\n",
      "Dallas            216\n",
      "Denver            144\n",
      "Des Moines        144\n",
      "Detroit           144\n",
      "Fargo             144\n",
      "Hartford          216\n",
      "Honolulu          144\n",
      "Houston           214\n",
      "Indianapolis      144\n",
      "Jackson           216\n",
      "Knoxville         216\n",
      "Las Vegas         216\n",
      "Little Rock       216\n",
      "Los Angeles       216\n",
      "Louisville        144\n",
      "Manchester        216\n",
      "Miami             144\n",
      "Milwaukee         144\n",
      "Minneapolis       144\n",
      "New Orleans       216\n",
      "New York          216\n",
      "Newark            144\n",
      "Oklahoma City     216\n",
      "Omaha             140\n",
      "Orlando           216\n",
      "Philadelphia      216\n",
      "Phoenix           216\n",
      "Portland          360\n",
      "Providence        216\n",
      "Richmond          216\n",
      "Salt Lake City    216\n",
      "San Francisco     214\n",
      "Seattle           144\n",
      "Sioux Falls       144\n",
      "St. Louis         144\n",
      "Wichita           144\n",
      "Wilmington        144\n",
      "dtype: int64\n"
     ]
    }
   ],
   "source": [
    "print(df[['city', 'total_sales']].groupby('city').size())"
   ]
  },
  {
   "cell_type": "markdown",
   "metadata": {},
   "source": [
    "Which city generates maximum profit?"
   ]
  },
  {
   "cell_type": "code",
   "execution_count": 12,
   "metadata": {},
   "outputs": [
    {
     "name": "stdout",
     "output_type": "stream",
     "text": [
      "operating_profit         39000\n",
      "city                Wilmington\n",
      "dtype: object\n"
     ]
    }
   ],
   "source": [
    "print(df[['operating_profit','city']].max())"
   ]
  },
  {
   "cell_type": "markdown",
   "metadata": {},
   "source": [
    "Which is the most sold product type?"
   ]
  },
  {
   "cell_type": "code",
   "execution_count": 13,
   "metadata": {},
   "outputs": [
    {
     "name": "stdout",
     "output_type": "stream",
     "text": [
      "product       Women's Street Footwear\n",
      "units_sold                       1275\n",
      "dtype: object\n"
     ]
    }
   ],
   "source": [
    "print(df[['product','units_sold']].max())"
   ]
  },
  {
   "cell_type": "markdown",
   "metadata": {},
   "source": [
    "Which is the least selling product?"
   ]
  },
  {
   "cell_type": "code",
   "execution_count": 14,
   "metadata": {},
   "outputs": [
    {
     "name": "stdout",
     "output_type": "stream",
     "text": [
      "product       Men's Apparel\n",
      "units_sold                6\n",
      "dtype: object\n"
     ]
    }
   ],
   "source": [
    "print(df[['product','units_sold']].min())"
   ]
  },
  {
   "cell_type": "markdown",
   "metadata": {},
   "source": [
    "Which region generates the least profit?"
   ]
  },
  {
   "cell_type": "code",
   "execution_count": 15,
   "metadata": {},
   "outputs": [
    {
     "name": "stdout",
     "output_type": "stream",
     "text": [
      "region              Midwest\n",
      "operating_profit          8\n",
      "dtype: object\n"
     ]
    }
   ],
   "source": [
    "print(df[['region','operating_profit']].min())"
   ]
  },
  {
   "cell_type": "markdown",
   "metadata": {},
   "source": [
    "What are the different sales method?"
   ]
  },
  {
   "cell_type": "code",
   "execution_count": 16,
   "metadata": {},
   "outputs": [
    {
     "name": "stdout",
     "output_type": "stream",
     "text": [
      "sales_method\n",
      "In-store    1740\n",
      "Online      4887\n",
      "Outlet      3010\n",
      "dtype: int64\n"
     ]
    }
   ],
   "source": [
    "print(df[['sales_method', 'units_sold']].groupby('sales_method').size())"
   ]
  },
  {
   "cell_type": "markdown",
   "metadata": {},
   "source": [
    "What is the region wise profit generated?"
   ]
  },
  {
   "cell_type": "code",
   "execution_count": 17,
   "metadata": {},
   "outputs": [],
   "source": [
    "import matplotlib.pyplot as plt"
   ]
  },
  {
   "cell_type": "code",
   "execution_count": 27,
   "metadata": {},
   "outputs": [],
   "source": [
    "label = df['region'].head(10)"
   ]
  },
  {
   "cell_type": "code",
   "execution_count": 28,
   "metadata": {},
   "outputs": [
    {
     "data": {
      "text/plain": [
       "([<matplotlib.patches.Wedge at 0x23f1b3a8470>,\n",
       "  <matplotlib.patches.Wedge at 0x23f1b3b1640>,\n",
       "  <matplotlib.patches.Wedge at 0x23f1b3b32c0>,\n",
       "  <matplotlib.patches.Wedge at 0x23f1b3abbf0>,\n",
       "  <matplotlib.patches.Wedge at 0x23f1b5b5a00>,\n",
       "  <matplotlib.patches.Wedge at 0x23f1b40bec0>,\n",
       "  <matplotlib.patches.Wedge at 0x23f1b48d5b0>,\n",
       "  <matplotlib.patches.Wedge at 0x23f1b40ba10>,\n",
       "  <matplotlib.patches.Wedge at 0x23f1b40bad0>,\n",
       "  <matplotlib.patches.Wedge at 0x23f1b40bc20>],\n",
       " [Text(1.0156378018368153, 0.42246876272699985, 'Southeast'),\n",
       "  Text(0.5897976590312369, 0.9285142548185639, 'Northeast'),\n",
       "  Text(0.22559581230233594, 1.0766180982463787, 'West'),\n",
       "  Text(-0.5860961118107599, 0.9308551701098885, 'Southeast'),\n",
       "  Text(-1.0921614782254927, 0.13108510777470786, 'South'),\n",
       "  Text(-1.0363195924477433, -0.3688383145891211, 'West'),\n",
       "  Text(-0.6949722390907895, -0.8526509173707225, 'West'),\n",
       "  Text(-0.11421901448579228, -1.0940539368467601, 'Northeast'),\n",
       "  Text(0.4769197334210627, -0.9912353746076573, 'South'),\n",
       "  Text(1.0126694859905008, -0.42953522805904426, 'South')])"
      ]
     },
     "execution_count": 28,
     "metadata": {},
     "output_type": "execute_result"
    },
    {
     "data": {
      "image/png": "[encoded data removed]",
      "text/plain": [
       "<Figure size 640x480 with 1 Axes>"
      ]
     },
     "metadata": {},
     "output_type": "display_data"
    }
   ],
   "source": [
    "plt.pie(df['operating_profit'].head(10), labels = label)"
   ]
  },
  {
   "cell_type": "markdown",
   "metadata": {},
   "source": [
    "What are the statewise total sales?"
   ]
  },
  {
   "cell_type": "code",
   "execution_count": 30,
   "metadata": {},
   "outputs": [
    {
     "data": {
      "text/plain": [
       "<BarContainer object of 10 artists>"
      ]
     },
     "execution_count": 30,
     "metadata": {},
     "output_type": "execute_result"
    },
    {
     "data": {
      "image/png": "[encoded data removed]",
      "text/plain": [
       "<Figure size 640x480 with 1 Axes>"
      ]
     },
     "metadata": {},
     "output_type": "display_data"
    }
   ],
   "source": [
    "plt.bar(df['state'].head(10),df['total_sales'].head(10))"
   ]
  },
  {
   "cell_type": "code",
   "execution_count": null,
   "metadata": {},
   "outputs": [],
   "source": []
  }
 ],
 "metadata": {
  "kernelspec": {
   "display_name": "Python 3",
   "language": "python",
   "name": "python3"
  },
  "language_info": {
   "codemirror_mode": {
    "name": "ipython",
    "version": 3
   },
   "file_extension": ".py",
   "mimetype": "text/x-python",
   "name": "python",
   "nbconvert_exporter": "python",
   "pygments_lexer": "ipython3",
   "version": "3.12.5"
  }
 },
 "nbformat": 4,
 "nbformat_minor": 2
}
